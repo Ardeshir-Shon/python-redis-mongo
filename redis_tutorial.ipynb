{
  "nbformat": 4,
  "nbformat_minor": 0,
  "metadata": {
    "colab": {
      "provenance": [],
      "authorship_tag": "ABX9TyPq6rc4got1GdnLzNjvfrWL"
    },
    "kernelspec": {
      "name": "python3",
      "display_name": "Python 3"
    },
    "language_info": {
      "name": "python"
    }
  },
  "cells": [
    {
      "cell_type": "code",
      "source": [
        "!pip install redis-server redis\n",
        "\n",
        "import redis_server\n",
        "!$redis_server.REDIS_SERVER_PATH --daemonize yes\n",
        "\n",
        "import redis"
      ],
      "metadata": {
        "id": "sXA6c5sg_V5E",
        "colab": {
          "base_uri": "https://localhost:8080/"
        },
        "outputId": "a682e792-f2bc-4f55-a84a-b8637e47a06e"
      },
      "execution_count": 1,
      "outputs": [
        {
          "output_type": "stream",
          "name": "stdout",
          "text": [
            "Looking in indexes: https://pypi.org/simple, https://us-python.pkg.dev/colab-wheels/public/simple/\n",
            "Collecting redis-server\n",
            "  Downloading redis_server-6.0.9-202010301343-cp39-cp39-manylinux2010_x86_64.whl (5.5 MB)\n",
            "\u001b[2K     \u001b[90m━━━━━━━━━━━━━━━━━━━━━━━━━━━━━━━━━━━━━━━━\u001b[0m \u001b[32m5.5/5.5 MB\u001b[0m \u001b[31m34.4 MB/s\u001b[0m eta \u001b[36m0:00:00\u001b[0m\n",
            "\u001b[?25hCollecting redis\n",
            "  Downloading redis-4.5.1-py3-none-any.whl (238 kB)\n",
            "\u001b[2K     \u001b[90m━━━━━━━━━━━━━━━━━━━━━━━━━━━━━━━━━━━━━━\u001b[0m \u001b[32m238.5/238.5 KB\u001b[0m \u001b[31m17.7 MB/s\u001b[0m eta \u001b[36m0:00:00\u001b[0m\n",
            "\u001b[?25hCollecting async-timeout>=4.0.2\n",
            "  Downloading async_timeout-4.0.2-py3-none-any.whl (5.8 kB)\n",
            "Installing collected packages: redis-server, async-timeout, redis\n",
            "Successfully installed async-timeout-4.0.2 redis-4.5.1 redis-server-6.0.9\n"
          ]
        }
      ]
    },
    {
      "cell_type": "code",
      "source": [
        "# Connect to the Redis server\n",
        "r = redis.StrictRedis(host='localhost', port=6379, db=0)\n",
        "\n",
        "# Publisher\n",
        "def publish_message(channel, message):\n",
        "    r.publish(channel, message)\n",
        "\n",
        "# Subscriber\n",
        "def subscribe_to_channel(channel):\n",
        "    pubsub = r.pubsub()\n",
        "    pubsub.subscribe(channel)\n",
        "\n",
        "    for message in pubsub.listen():\n",
        "        print(f\"Received: {message['data']}\")\n",
        "\n",
        "# Usage\n",
        "if __name__ == \"__main__\":\n",
        "    import threading\n",
        "\n",
        "    channel = 'my_channel'\n",
        "\n",
        "    subscriber_thread = threading.Thread(target=subscribe_to_channel, args=(channel,))\n",
        "    subscriber_thread.start()\n",
        "\n",
        "    while True:\n",
        "        msg = input(\"Enter message: \")\n",
        "        publish_message(channel, msg)\n"
      ],
      "metadata": {
        "id": "WFTmkbgBQ8_T"
      },
      "execution_count": null,
      "outputs": []
    },
    {
      "cell_type": "code",
      "source": [
        "# Connect to the Redis server\n",
        "r = redis.StrictRedis(host='localhost', port=6379, db=0)\n",
        "\n",
        "# Set key-value pairs\n",
        "r.set('name', 'John Doe')\n",
        "r.set('age', 30)\n",
        "\n",
        "# Get values\n",
        "name = r.get('name')\n",
        "age = r.get('age')\n",
        "\n",
        "print(f\"Name: {name}, Age: {age}\")\n"
      ],
      "metadata": {
        "colab": {
          "base_uri": "https://localhost:8080/"
        },
        "id": "cyGOBw6QQ9Hl",
        "outputId": "1cd1d3be-b97e-46fa-c54e-08577af972f1"
      },
      "execution_count": 9,
      "outputs": [
        {
          "output_type": "stream",
          "name": "stdout",
          "text": [
            "Name: b'John Doe', Age: b'30'\n"
          ]
        }
      ]
    },
    {
      "cell_type": "code",
      "source": [
        "# Connect to the Redis server\n",
        "r = redis.StrictRedis(host='localhost', port=6379, db=0)\n",
        "\n",
        "# Cache function results\n",
        "def cache_result(func, key, expire=None):\n",
        "    result = r.get(key)\n",
        "    if not result:\n",
        "        result = func()\n",
        "        r.set(key, result)\n",
        "        if expire:\n",
        "            r.expire(key, expire)\n",
        "    return result\n",
        "\n",
        "# Expensive function\n",
        "def expensive_function():\n",
        "    # Simulating a time-consuming operation\n",
        "    import time\n",
        "    time.sleep(5)\n",
        "    print(\"here\")\n",
        "    return \"Expensive result\"\n",
        "\n",
        "# Usage\n",
        "if __name__ == \"__main__\":\n",
        "    key = \"expensive_function_result\"\n",
        "    result = cache_result(expensive_function, key, expire=10)\n",
        "    result = cache_result(expensive_function, key, expire=10)\n",
        "    result = cache_result(expensive_function, key, expire=10)\n"
      ],
      "metadata": {
        "id": "mToI8WmSRFpE",
        "colab": {
          "base_uri": "https://localhost:8080/"
        },
        "outputId": "b85ed28c-2779-43e7-dc66-6ee0497cf7ac"
      },
      "execution_count": 14,
      "outputs": [
        {
          "output_type": "stream",
          "name": "stdout",
          "text": [
            "here\n"
          ]
        }
      ]
    },
    {
      "cell_type": "code",
      "source": [
        "#strings\n",
        "r = redis.StrictRedis(host='localhost', port=6379, db=0)\n",
        "\n",
        "# Set and get a string value\n",
        "r.set('greeting', 'Hello, world!')\n",
        "greeting = r.get('greeting')\n",
        "print(\"Greeting:\", greeting.decode())\n",
        "\n",
        "# Increment a counter\n",
        "r.incr('counter')\n",
        "r.incrby('counter', 10)\n",
        "counter = r.get('counter')\n",
        "print(\"Counter:\", counter.decode())\n"
      ],
      "metadata": {
        "id": "JpvIFgVrZc6z",
        "colab": {
          "base_uri": "https://localhost:8080/"
        },
        "outputId": "0ebdb618-6a5f-4353-ea42-c5ed8921d8b0"
      },
      "execution_count": 2,
      "outputs": [
        {
          "output_type": "stream",
          "name": "stdout",
          "text": [
            "Greeting: Hello, world!\n",
            "Counter: 11\n"
          ]
        }
      ]
    },
    {
      "cell_type": "code",
      "source": [
        "#lists\n",
        "r = redis.StrictRedis(host='localhost', port=6379, db=0)\n",
        "\n",
        "# Push elements to a list\n",
        "r.lpush('fruits', 'apple', 'banana', 'orange')\n",
        "\n",
        "# Pop elements from a list\n",
        "fruit = r.rpop('fruits')\n",
        "print(\"Fruit:\", fruit.decode())\n",
        "\n",
        "# Get elements from a list\n",
        "fruits = r.lrange('fruits', 0, -1)\n",
        "print(\"Fruits:\", [f.decode() for f in fruits])\n"
      ],
      "metadata": {
        "id": "6hNrkbWIZhmR",
        "colab": {
          "base_uri": "https://localhost:8080/"
        },
        "outputId": "b9bfc7a7-18d4-44e0-dda4-2d6edb8501e4"
      },
      "execution_count": 3,
      "outputs": [
        {
          "output_type": "stream",
          "name": "stdout",
          "text": [
            "Fruit: apple\n",
            "Fruits: ['orange', 'banana']\n"
          ]
        }
      ]
    },
    {
      "cell_type": "code",
      "source": [
        "#sets\n",
        "\n",
        "r = redis.StrictRedis(host='localhost', port=6379, db=0)\n",
        "\n",
        "# Add elements to a set\n",
        "r.sadd('users', 'Alice', 'Bob', 'Charlie', 'Alice')\n",
        "\n",
        "# Remove an element from a set\n",
        "r.srem('users', 'Bob')\n",
        "\n",
        "# Check if an element is a member of a set\n",
        "is_member = r.sismember('users', 'Charlie')\n",
        "print(\"Charlie is a member of users:\", is_member)\n",
        "\n",
        "# Get all elements of a set\n",
        "users = r.smembers('users')\n",
        "print(\"Users:\", [user.decode() for user in users])\n"
      ],
      "metadata": {
        "id": "MMnOMIpoZnDC",
        "colab": {
          "base_uri": "https://localhost:8080/"
        },
        "outputId": "c524b761-7b0d-43f6-9679-9f1837765ee9"
      },
      "execution_count": 4,
      "outputs": [
        {
          "output_type": "stream",
          "name": "stdout",
          "text": [
            "Charlie is a member of users: True\n",
            "Users: ['Alice', 'Charlie']\n"
          ]
        }
      ]
    },
    {
      "cell_type": "code",
      "source": [
        "#hashes\n",
        "\n",
        "r = redis.StrictRedis(host='localhost', port=6379, db=0)\n",
        "\n",
        "# Set fields in a hash\n",
        "r.hmset('user:1', {'name': 'Alice', 'age': 30, 'email': 'alice@example.com'})\n",
        "\n",
        "# Get fields from a hash\n",
        "user = r.hgetall('user:1')\n",
        "print(\"User:\", {k.decode(): v.decode() for k, v in user.items()})\n",
        "\n",
        "# Update a field in a hash\n",
        "r.hincrby('user:1', 'age', 1)\n"
      ],
      "metadata": {
        "id": "_-IgNof4Zu1f",
        "colab": {
          "base_uri": "https://localhost:8080/"
        },
        "outputId": "ecaac15f-7818-49e6-f387-073257fd7751"
      },
      "execution_count": 5,
      "outputs": [
        {
          "output_type": "stream",
          "name": "stdout",
          "text": [
            "User: {'name': 'Alice', 'age': '30', 'email': 'alice@example.com'}\n"
          ]
        },
        {
          "output_type": "stream",
          "name": "stderr",
          "text": [
            "<ipython-input-5-f2aaf1256244>:6: DeprecationWarning: Redis.hmset() is deprecated. Use Redis.hset() instead.\n",
            "  r.hmset('user:1', {'name': 'Alice', 'age': 30, 'email': 'alice@example.com'})\n"
          ]
        },
        {
          "output_type": "execute_result",
          "data": {
            "text/plain": [
              "31"
            ]
          },
          "metadata": {},
          "execution_count": 5
        }
      ]
    },
    {
      "cell_type": "code",
      "source": [
        "#geospatial data\n",
        "\n",
        "r = redis.StrictRedis(host='localhost', port=6379, db=0)\n",
        "\n",
        "# Add geospatial data\n",
        "coords = [(13.361389, 38.115556, \"Palermo\"),(2.3522, 48.8566, 'Paris'),(12.4964, 41.9028, 'Rome'),(-0.1278, 51.5074, 'London')]\n",
        "r.geoadd(\"cities\", coords[0])\n",
        "r.geoadd('cities', coords[1])\n",
        "r.geoadd('cities', coords[2])\n",
        "r.geoadd('cities', coords[3])\n",
        "\n",
        "# Calculate the distance between two cities\n",
        "distance = r.geodist('cities', 'Paris', 'Rome', unit='km')\n",
        "print(\"Distance between Paris and Rome:\", distance, \"km\")\n",
        "\n",
        "# Find nearby cities\n",
        "nearby_cities = r.georadius('cities', 2.3522, 48.8566, 1000, unit='km', withdist=True)\n",
        "print(\"Cities within 1000 km of Paris:\", nearby_cities)\n"
      ],
      "metadata": {
        "colab": {
          "base_uri": "https://localhost:8080/"
        },
        "id": "YAKlmcdOZzGo",
        "outputId": "3819b468-0006-4c6d-a3a0-148fd35b7169"
      },
      "execution_count": 6,
      "outputs": [
        {
          "output_type": "stream",
          "name": "stdout",
          "text": [
            "Distance between Paris and Rome: 1105.592 km\n",
            "Cities within 1000 km of Paris: [[b'Paris', 0.0002], [b'London', 343.653]]\n"
          ]
        }
      ]
    },
    {
      "cell_type": "code",
      "source": [
        "#sorted sets\n",
        "\n",
        "r = redis.StrictRedis(host='localhost', port=6379, db=0)\n",
        "\n",
        "# Add members to the sorted set\n",
        "r.zadd('leaderboard', {'Alice': 1500, 'Bob': 1000, 'Charlie': 1200})\n",
        "\n",
        "# Increment a member's score\n",
        "r.zincrby('leaderboard', 500, 'Bob')\n",
        "\n",
        "# Get the top N members\n",
        "top_members = r.zrevrange('leaderboard', 0, 2, withscores=True)\n",
        "print(\"Top members:\", top_members)\n",
        "\n",
        "# Get a member's rank\n",
        "rank = r.zrevrank('leaderboard', 'Charlie')\n",
        "print(\"Charlie's rank:\", rank + 1)"
      ],
      "metadata": {
        "colab": {
          "base_uri": "https://localhost:8080/"
        },
        "id": "vDwnRVB0ZOmm",
        "outputId": "8087f4a9-65e0-4273-ba84-e1e7b2c85130"
      },
      "execution_count": 7,
      "outputs": [
        {
          "output_type": "stream",
          "name": "stdout",
          "text": [
            "Top members: [(b'Bob', 1500.0), (b'Alice', 1500.0), (b'Charlie', 1200.0)]\n",
            "Charlie's rank: 3\n"
          ]
        }
      ]
    },
    {
      "cell_type": "code",
      "source": [
        "#bitmaps\n",
        "r = redis.StrictRedis(host='localhost', port=6379, db=0)\n",
        "\n",
        "# Set bits for user activity\n",
        "r.setbit('user1_activity', 1, 1)\n",
        "r.setbit('user1_activity', 7, 1)\n",
        "\n",
        "# Check if a user was active on a specific day\n",
        "active = r.getbit('user1_activity', 1)\n",
        "print(\"User 1 active on day 1:\", bool(active))\n",
        "\n",
        "# Count active days for a user\n",
        "active_days = r.bitcount('user1_activity')\n",
        "print(\"User 1 active days:\", active_days)\n"
      ],
      "metadata": {
        "colab": {
          "base_uri": "https://localhost:8080/"
        },
        "id": "GRR80XDFZTLj",
        "outputId": "b2d3624f-3c50-45be-f2e4-fd4fd9ec0b6f"
      },
      "execution_count": 8,
      "outputs": [
        {
          "output_type": "stream",
          "name": "stdout",
          "text": [
            "User 1 active on day 1: True\n",
            "User 1 active days: 2\n"
          ]
        }
      ]
    }
  ]
}